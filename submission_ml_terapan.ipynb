{
  "nbformat": 4,
  "nbformat_minor": 0,
  "metadata": {
    "kernelspec": {
      "name": "python3",
      "display_name": "Python 3.9.1 64-bit"
    },
    "language_info": {
      "pygments_lexer": "ipython3",
      "nbconvert_exporter": "python",
      "version": "3.9.1",
      "file_extension": ".py",
      "codemirror_mode": {
        "name": "ipython",
        "version": 3
      },
      "name": "python",
      "mimetype": "text/x-python"
    },
    "metadata": {
      "interpreter": {
        "hash": "75fe66cc5c562c8b7ab53726264ba1dcd972787fdbff729afe5074f433741fc8"
      }
    },
    "interpreter": {
      "hash": "75fe66cc5c562c8b7ab53726264ba1dcd972787fdbff729afe5074f433741fc8"
    },
    "colab": {
      "name": "submission_ml_terapan.ipynb",
      "provenance": [],
      "collapsed_sections": []
    }
  },
  "cells": [
    {
      "cell_type": "markdown",
      "metadata": {
        "id": "eIyX2je0j0oc"
      },
      "source": [
        "# Identitas & Definisi Hasil Pekerjaan\n",
        "## Ivan Budianto\n",
        "\n",
        "### shinsuketenma0603@gmail.com\n",
        "### Submission Machine Learning Terapan"
      ]
    },
    {
      "cell_type": "markdown",
      "metadata": {
        "id": "Tg_y1x8Qj0og"
      },
      "source": [
        "## Prediksi Penderita Penyakit Jantung Berdasarkan Statistik Kesehatan \n",
        "\n",
        "### Metode:\n",
        "- Logistic Regression\n",
        "- Random Forest"
      ]
    },
    {
      "cell_type": "markdown",
      "metadata": {
        "id": "JQLxzl-Tj0oh"
      },
      "source": [
        "Melakukan import library yang dibutuhkan (Pandas, Sci-Kit Learn, Seaborn)"
      ]
    },
    {
      "cell_type": "code",
      "metadata": {
        "trusted": true,
        "id": "fGm6Sh2Oj0oh"
      },
      "source": [
        "import pandas as pd\n",
        "\n",
        "from sklearn.model_selection import train_test_split\n",
        "from sklearn.preprocessing import StandardScaler\n",
        "from sklearn.linear_model import LogisticRegression\n",
        "from sklearn.ensemble import RandomForestRegressor\n",
        "\n",
        "from sklearn.metrics import mean_squared_error\n",
        "from sklearn.metrics import confusion_matrix\n",
        "from sklearn.metrics import log_loss\n",
        "\n",
        "import seaborn as sns"
      ],
      "execution_count": null,
      "outputs": []
    },
    {
      "cell_type": "markdown",
      "metadata": {
        "id": "zTc80IQzj0oi"
      },
      "source": [
        "# Pre-Processing\n",
        "\n",
        "## Berikut adalah langkah-langkah yang saya lakukan dalam proses preprocessing data:\n",
        "1. Memasukkan dataset kedalam dataframe dari file csv\n",
        "2. Menandai *numerical features* dari data untuk mempermudah proses scaling menggunakan standard scaler\n",
        "3. Melakukan drop di kolom education, karena kolom tersebut memiliki bobot yang kecil pada hasil akhir data, dan membuat fokus model berkurang.\n",
        "4. Mengisi missing value dengan median. Missing value akan membuat data tersebut tidak dapat digunakan, dan sangat sayang untuk membuang informasi penting pada banyak row hanya karena 1-2 missing value, maka dilakukan pengisian missing value. Pengisian data dengan menggunakan median akan membantu \"menetralkan\" data yang hilang, karena pengisian median tidak akan menggeser atau menambah varians dari data.\n",
        "5. Melakukan pemisahan antara dataset latihan (train) dan \n",
        "dataset test (test) dengan pembagian:\n",
        "  - 75% dataset latihan (train set)\n",
        "  - 25% dataset pengujian (test set)\n",
        "6. Scaling dengan Standard Scaler sklearn. Penggunaan Standard Scaler akan membuat fitur numerik dari data dapat diproses dengan lebih mudah oleh mesin untuk modelling."
      ]
    },
    {
      "cell_type": "markdown",
      "metadata": {
        "id": "wO3oJqYWj0oj"
      },
      "source": [
        "## Memasukkan dataset & menandai num features\n",
        "Memasukkan dataset kedalam dataframe dari file csv"
      ]
    },
    {
      "cell_type": "code",
      "metadata": {
        "trusted": true,
        "colab": {
          "base_uri": "https://localhost:8080/",
          "height": 442
        },
        "id": "ROH0Pl00j0oj",
        "outputId": "5eefde31-3c62-4af7-8fe7-60bf6d428454"
      },
      "source": [
        "#memasukkan dataset kedalam dataframe\n",
        "\n",
        "df = pd.read_csv('framingham.csv')\n",
        "numerical_features = ['cigsPerDay', 'totChol', 'sysBP', 'diaBP', 'BMI', 'heartRate', 'glucose']\n",
        "df"
      ],
      "execution_count": null,
      "outputs": [
        {
          "output_type": "execute_result",
          "data": {
            "text/html": [
              "<div>\n",
              "<style scoped>\n",
              "    .dataframe tbody tr th:only-of-type {\n",
              "        vertical-align: middle;\n",
              "    }\n",
              "\n",
              "    .dataframe tbody tr th {\n",
              "        vertical-align: top;\n",
              "    }\n",
              "\n",
              "    .dataframe thead th {\n",
              "        text-align: right;\n",
              "    }\n",
              "</style>\n",
              "<table border=\"1\" class=\"dataframe\">\n",
              "  <thead>\n",
              "    <tr style=\"text-align: right;\">\n",
              "      <th></th>\n",
              "      <th>male</th>\n",
              "      <th>age</th>\n",
              "      <th>education</th>\n",
              "      <th>currentSmoker</th>\n",
              "      <th>cigsPerDay</th>\n",
              "      <th>BPMeds</th>\n",
              "      <th>prevalentStroke</th>\n",
              "      <th>prevalentHyp</th>\n",
              "      <th>diabetes</th>\n",
              "      <th>totChol</th>\n",
              "      <th>sysBP</th>\n",
              "      <th>diaBP</th>\n",
              "      <th>BMI</th>\n",
              "      <th>heartRate</th>\n",
              "      <th>glucose</th>\n",
              "      <th>TenYearCHD</th>\n",
              "    </tr>\n",
              "  </thead>\n",
              "  <tbody>\n",
              "    <tr>\n",
              "      <th>0</th>\n",
              "      <td>1</td>\n",
              "      <td>39</td>\n",
              "      <td>4.0</td>\n",
              "      <td>0</td>\n",
              "      <td>0.0</td>\n",
              "      <td>0.0</td>\n",
              "      <td>0</td>\n",
              "      <td>0</td>\n",
              "      <td>0</td>\n",
              "      <td>195.0</td>\n",
              "      <td>106.0</td>\n",
              "      <td>70.0</td>\n",
              "      <td>26.97</td>\n",
              "      <td>80.0</td>\n",
              "      <td>77.0</td>\n",
              "      <td>0</td>\n",
              "    </tr>\n",
              "    <tr>\n",
              "      <th>1</th>\n",
              "      <td>0</td>\n",
              "      <td>46</td>\n",
              "      <td>2.0</td>\n",
              "      <td>0</td>\n",
              "      <td>0.0</td>\n",
              "      <td>0.0</td>\n",
              "      <td>0</td>\n",
              "      <td>0</td>\n",
              "      <td>0</td>\n",
              "      <td>250.0</td>\n",
              "      <td>121.0</td>\n",
              "      <td>81.0</td>\n",
              "      <td>28.73</td>\n",
              "      <td>95.0</td>\n",
              "      <td>76.0</td>\n",
              "      <td>0</td>\n",
              "    </tr>\n",
              "    <tr>\n",
              "      <th>2</th>\n",
              "      <td>1</td>\n",
              "      <td>48</td>\n",
              "      <td>1.0</td>\n",
              "      <td>1</td>\n",
              "      <td>20.0</td>\n",
              "      <td>0.0</td>\n",
              "      <td>0</td>\n",
              "      <td>0</td>\n",
              "      <td>0</td>\n",
              "      <td>245.0</td>\n",
              "      <td>127.5</td>\n",
              "      <td>80.0</td>\n",
              "      <td>25.34</td>\n",
              "      <td>75.0</td>\n",
              "      <td>70.0</td>\n",
              "      <td>0</td>\n",
              "    </tr>\n",
              "    <tr>\n",
              "      <th>3</th>\n",
              "      <td>0</td>\n",
              "      <td>61</td>\n",
              "      <td>3.0</td>\n",
              "      <td>1</td>\n",
              "      <td>30.0</td>\n",
              "      <td>0.0</td>\n",
              "      <td>0</td>\n",
              "      <td>1</td>\n",
              "      <td>0</td>\n",
              "      <td>225.0</td>\n",
              "      <td>150.0</td>\n",
              "      <td>95.0</td>\n",
              "      <td>28.58</td>\n",
              "      <td>65.0</td>\n",
              "      <td>103.0</td>\n",
              "      <td>1</td>\n",
              "    </tr>\n",
              "    <tr>\n",
              "      <th>4</th>\n",
              "      <td>0</td>\n",
              "      <td>46</td>\n",
              "      <td>3.0</td>\n",
              "      <td>1</td>\n",
              "      <td>23.0</td>\n",
              "      <td>0.0</td>\n",
              "      <td>0</td>\n",
              "      <td>0</td>\n",
              "      <td>0</td>\n",
              "      <td>285.0</td>\n",
              "      <td>130.0</td>\n",
              "      <td>84.0</td>\n",
              "      <td>23.10</td>\n",
              "      <td>85.0</td>\n",
              "      <td>85.0</td>\n",
              "      <td>0</td>\n",
              "    </tr>\n",
              "    <tr>\n",
              "      <th>...</th>\n",
              "      <td>...</td>\n",
              "      <td>...</td>\n",
              "      <td>...</td>\n",
              "      <td>...</td>\n",
              "      <td>...</td>\n",
              "      <td>...</td>\n",
              "      <td>...</td>\n",
              "      <td>...</td>\n",
              "      <td>...</td>\n",
              "      <td>...</td>\n",
              "      <td>...</td>\n",
              "      <td>...</td>\n",
              "      <td>...</td>\n",
              "      <td>...</td>\n",
              "      <td>...</td>\n",
              "      <td>...</td>\n",
              "    </tr>\n",
              "    <tr>\n",
              "      <th>4233</th>\n",
              "      <td>1</td>\n",
              "      <td>50</td>\n",
              "      <td>1.0</td>\n",
              "      <td>1</td>\n",
              "      <td>1.0</td>\n",
              "      <td>0.0</td>\n",
              "      <td>0</td>\n",
              "      <td>1</td>\n",
              "      <td>0</td>\n",
              "      <td>313.0</td>\n",
              "      <td>179.0</td>\n",
              "      <td>92.0</td>\n",
              "      <td>25.97</td>\n",
              "      <td>66.0</td>\n",
              "      <td>86.0</td>\n",
              "      <td>1</td>\n",
              "    </tr>\n",
              "    <tr>\n",
              "      <th>4234</th>\n",
              "      <td>1</td>\n",
              "      <td>51</td>\n",
              "      <td>3.0</td>\n",
              "      <td>1</td>\n",
              "      <td>43.0</td>\n",
              "      <td>0.0</td>\n",
              "      <td>0</td>\n",
              "      <td>0</td>\n",
              "      <td>0</td>\n",
              "      <td>207.0</td>\n",
              "      <td>126.5</td>\n",
              "      <td>80.0</td>\n",
              "      <td>19.71</td>\n",
              "      <td>65.0</td>\n",
              "      <td>68.0</td>\n",
              "      <td>0</td>\n",
              "    </tr>\n",
              "    <tr>\n",
              "      <th>4235</th>\n",
              "      <td>0</td>\n",
              "      <td>48</td>\n",
              "      <td>2.0</td>\n",
              "      <td>1</td>\n",
              "      <td>20.0</td>\n",
              "      <td>NaN</td>\n",
              "      <td>0</td>\n",
              "      <td>0</td>\n",
              "      <td>0</td>\n",
              "      <td>248.0</td>\n",
              "      <td>131.0</td>\n",
              "      <td>72.0</td>\n",
              "      <td>22.00</td>\n",
              "      <td>84.0</td>\n",
              "      <td>86.0</td>\n",
              "      <td>0</td>\n",
              "    </tr>\n",
              "    <tr>\n",
              "      <th>4236</th>\n",
              "      <td>0</td>\n",
              "      <td>44</td>\n",
              "      <td>1.0</td>\n",
              "      <td>1</td>\n",
              "      <td>15.0</td>\n",
              "      <td>0.0</td>\n",
              "      <td>0</td>\n",
              "      <td>0</td>\n",
              "      <td>0</td>\n",
              "      <td>210.0</td>\n",
              "      <td>126.5</td>\n",
              "      <td>87.0</td>\n",
              "      <td>19.16</td>\n",
              "      <td>86.0</td>\n",
              "      <td>NaN</td>\n",
              "      <td>0</td>\n",
              "    </tr>\n",
              "    <tr>\n",
              "      <th>4237</th>\n",
              "      <td>0</td>\n",
              "      <td>52</td>\n",
              "      <td>2.0</td>\n",
              "      <td>0</td>\n",
              "      <td>0.0</td>\n",
              "      <td>0.0</td>\n",
              "      <td>0</td>\n",
              "      <td>0</td>\n",
              "      <td>0</td>\n",
              "      <td>269.0</td>\n",
              "      <td>133.5</td>\n",
              "      <td>83.0</td>\n",
              "      <td>21.47</td>\n",
              "      <td>80.0</td>\n",
              "      <td>107.0</td>\n",
              "      <td>0</td>\n",
              "    </tr>\n",
              "  </tbody>\n",
              "</table>\n",
              "<p>4238 rows × 16 columns</p>\n",
              "</div>"
            ],
            "text/plain": [
              "      male  age  education  ...  heartRate  glucose  TenYearCHD\n",
              "0        1   39        4.0  ...       80.0     77.0           0\n",
              "1        0   46        2.0  ...       95.0     76.0           0\n",
              "2        1   48        1.0  ...       75.0     70.0           0\n",
              "3        0   61        3.0  ...       65.0    103.0           1\n",
              "4        0   46        3.0  ...       85.0     85.0           0\n",
              "...    ...  ...        ...  ...        ...      ...         ...\n",
              "4233     1   50        1.0  ...       66.0     86.0           1\n",
              "4234     1   51        3.0  ...       65.0     68.0           0\n",
              "4235     0   48        2.0  ...       84.0     86.0           0\n",
              "4236     0   44        1.0  ...       86.0      NaN           0\n",
              "4237     0   52        2.0  ...       80.0    107.0           0\n",
              "\n",
              "[4238 rows x 16 columns]"
            ]
          },
          "metadata": {},
          "execution_count": 2
        }
      ]
    },
    {
      "cell_type": "markdown",
      "metadata": {
        "id": "BD7UBbfHj0ok"
      },
      "source": [
        "## Drop column 'education'\n",
        "Melakukan drop di kolom education, karena kolom tersebut memiliki bobot yang kecil pada hasil akhir data, dan membuat fokus model berkurang."
      ]
    },
    {
      "cell_type": "code",
      "metadata": {
        "trusted": true,
        "id": "V3azP_ZCj0ol"
      },
      "source": [
        "#menghapus kolom education\n",
        "\n",
        "df = df.drop('education',axis='columns')"
      ],
      "execution_count": null,
      "outputs": []
    },
    {
      "cell_type": "markdown",
      "metadata": {
        "id": "-5WxauHrj0om"
      },
      "source": [
        "## Mengecek nilai NaN (1)\n",
        "Melakukan pengecekan pada setiap kolom dalam dataset untuk mencari nilai kosong (NaN)\n"
      ]
    },
    {
      "cell_type": "code",
      "metadata": {
        "trusted": true,
        "colab": {
          "base_uri": "https://localhost:8080/"
        },
        "id": "c0HBlJ2Mj0om",
        "outputId": "d16dd1bd-0e92-4167-c52c-8e091375abbf"
      },
      "source": [
        "#NaN check\n",
        "\n",
        "for i in df.columns:\n",
        "    print (i+\": \"+str(df[i].isna().sum()))"
      ],
      "execution_count": null,
      "outputs": [
        {
          "output_type": "stream",
          "name": "stdout",
          "text": [
            "male: 0\n",
            "age: 0\n",
            "currentSmoker: 0\n",
            "cigsPerDay: 29\n",
            "BPMeds: 53\n",
            "prevalentStroke: 0\n",
            "prevalentHyp: 0\n",
            "diabetes: 0\n",
            "totChol: 50\n",
            "sysBP: 0\n",
            "diaBP: 0\n",
            "BMI: 19\n",
            "heartRate: 1\n",
            "glucose: 388\n",
            "TenYearCHD: 0\n"
          ]
        }
      ]
    },
    {
      "cell_type": "markdown",
      "metadata": {
        "id": "rKyNcNF-j0on"
      },
      "source": [
        "## Mengisi missing value\n",
        "Mengisi missing value dengan median. Missing value akan membuat data tersebut tidak dapat digunakan, dan sangat sayang untuk membuang informasi penting pada banyak row hanya karena 1-2 missing value, maka dilakukan pengisian missing value. Pengisian data dengan menggunakan median akan membantu \"menetralkan\" data yang hilang, karena pengisian median tidak akan menggeser atau menambah varians dari data."
      ]
    },
    {
      "cell_type": "code",
      "metadata": {
        "trusted": true,
        "id": "qT-6NlCoj0op"
      },
      "source": [
        "#Mengisi nilai kosong pada dataset dengan median dari kolom tersebut\n",
        "\n",
        "df['cigsPerDay'] = df['cigsPerDay'].fillna(df['cigsPerDay'].median())\n",
        "df['BPMeds'] = df['BPMeds'].fillna(df['BPMeds'].median())\n",
        "df['totChol'] = df['totChol'].fillna(df['totChol'].median())\n",
        "df['BMI'] = df['BMI'].fillna(df['BMI'].median())\n",
        "df['glucose'] = df['glucose'].fillna(df['glucose'].median())\n",
        "df['heartRate'] = df['heartRate'].fillna(df['heartRate'].median())"
      ],
      "execution_count": null,
      "outputs": []
    },
    {
      "cell_type": "markdown",
      "metadata": {
        "id": "azfM0Fmzj0op"
      },
      "source": [
        "## Mengecek nilai NaN (2)\n",
        "Melakukan pengecekan kembali pada setiap kolom dalam dataset untuk mencari nilai kosong (NaN)"
      ]
    },
    {
      "cell_type": "code",
      "metadata": {
        "colab": {
          "base_uri": "https://localhost:8080/"
        },
        "id": "h-SGFNoHj0oq",
        "outputId": "f6094cef-aa4f-4586-aeef-2460a02ce279"
      },
      "source": [
        "#melakukan pengecekan pada setiap kolom dalam dataset untuk mencari nilai kosong (NaN) setelah dilakukan preprocessing\n",
        "\n",
        "for i in df.columns:\n",
        "    print (i+\": \"+str(df[i].isna().sum()))"
      ],
      "execution_count": null,
      "outputs": [
        {
          "output_type": "stream",
          "name": "stdout",
          "text": [
            "male: 0\n",
            "age: 0\n",
            "currentSmoker: 0\n",
            "cigsPerDay: 0\n",
            "BPMeds: 0\n",
            "prevalentStroke: 0\n",
            "prevalentHyp: 0\n",
            "diabetes: 0\n",
            "totChol: 0\n",
            "sysBP: 0\n",
            "diaBP: 0\n",
            "BMI: 0\n",
            "heartRate: 0\n",
            "glucose: 0\n",
            "TenYearCHD: 0\n"
          ]
        }
      ]
    },
    {
      "cell_type": "code",
      "metadata": {
        "colab": {
          "base_uri": "https://localhost:8080/",
          "height": 319
        },
        "id": "HRjVGx5Pj0oq",
        "outputId": "f5c1b31b-f763-4dd0-850b-9a8e7293e7ae"
      },
      "source": [
        "df.describe()"
      ],
      "execution_count": null,
      "outputs": [
        {
          "output_type": "execute_result",
          "data": {
            "text/html": [
              "<div>\n",
              "<style scoped>\n",
              "    .dataframe tbody tr th:only-of-type {\n",
              "        vertical-align: middle;\n",
              "    }\n",
              "\n",
              "    .dataframe tbody tr th {\n",
              "        vertical-align: top;\n",
              "    }\n",
              "\n",
              "    .dataframe thead th {\n",
              "        text-align: right;\n",
              "    }\n",
              "</style>\n",
              "<table border=\"1\" class=\"dataframe\">\n",
              "  <thead>\n",
              "    <tr style=\"text-align: right;\">\n",
              "      <th></th>\n",
              "      <th>male</th>\n",
              "      <th>age</th>\n",
              "      <th>currentSmoker</th>\n",
              "      <th>cigsPerDay</th>\n",
              "      <th>BPMeds</th>\n",
              "      <th>prevalentStroke</th>\n",
              "      <th>prevalentHyp</th>\n",
              "      <th>diabetes</th>\n",
              "      <th>totChol</th>\n",
              "      <th>sysBP</th>\n",
              "      <th>diaBP</th>\n",
              "      <th>BMI</th>\n",
              "      <th>heartRate</th>\n",
              "      <th>glucose</th>\n",
              "      <th>TenYearCHD</th>\n",
              "    </tr>\n",
              "  </thead>\n",
              "  <tbody>\n",
              "    <tr>\n",
              "      <th>count</th>\n",
              "      <td>4238.000000</td>\n",
              "      <td>4238.000000</td>\n",
              "      <td>4238.000000</td>\n",
              "      <td>4238.000000</td>\n",
              "      <td>4238.000000</td>\n",
              "      <td>4238.000000</td>\n",
              "      <td>4238.000000</td>\n",
              "      <td>4238.000000</td>\n",
              "      <td>4238.000000</td>\n",
              "      <td>4238.000000</td>\n",
              "      <td>4238.000000</td>\n",
              "      <td>4238.000000</td>\n",
              "      <td>4238.000000</td>\n",
              "      <td>4238.000000</td>\n",
              "      <td>4238.000000</td>\n",
              "    </tr>\n",
              "    <tr>\n",
              "      <th>mean</th>\n",
              "      <td>0.429212</td>\n",
              "      <td>49.584946</td>\n",
              "      <td>0.494101</td>\n",
              "      <td>8.941482</td>\n",
              "      <td>0.029259</td>\n",
              "      <td>0.005899</td>\n",
              "      <td>0.310524</td>\n",
              "      <td>0.025720</td>\n",
              "      <td>236.689476</td>\n",
              "      <td>132.352407</td>\n",
              "      <td>82.893464</td>\n",
              "      <td>25.800205</td>\n",
              "      <td>75.878716</td>\n",
              "      <td>81.603587</td>\n",
              "      <td>0.151958</td>\n",
              "    </tr>\n",
              "    <tr>\n",
              "      <th>std</th>\n",
              "      <td>0.495022</td>\n",
              "      <td>8.572160</td>\n",
              "      <td>0.500024</td>\n",
              "      <td>11.902399</td>\n",
              "      <td>0.168552</td>\n",
              "      <td>0.076587</td>\n",
              "      <td>0.462763</td>\n",
              "      <td>0.158316</td>\n",
              "      <td>44.327427</td>\n",
              "      <td>22.038097</td>\n",
              "      <td>11.910850</td>\n",
              "      <td>4.071041</td>\n",
              "      <td>12.025185</td>\n",
              "      <td>22.865246</td>\n",
              "      <td>0.359023</td>\n",
              "    </tr>\n",
              "    <tr>\n",
              "      <th>min</th>\n",
              "      <td>0.000000</td>\n",
              "      <td>32.000000</td>\n",
              "      <td>0.000000</td>\n",
              "      <td>0.000000</td>\n",
              "      <td>0.000000</td>\n",
              "      <td>0.000000</td>\n",
              "      <td>0.000000</td>\n",
              "      <td>0.000000</td>\n",
              "      <td>107.000000</td>\n",
              "      <td>83.500000</td>\n",
              "      <td>48.000000</td>\n",
              "      <td>15.540000</td>\n",
              "      <td>44.000000</td>\n",
              "      <td>40.000000</td>\n",
              "      <td>0.000000</td>\n",
              "    </tr>\n",
              "    <tr>\n",
              "      <th>25%</th>\n",
              "      <td>0.000000</td>\n",
              "      <td>42.000000</td>\n",
              "      <td>0.000000</td>\n",
              "      <td>0.000000</td>\n",
              "      <td>0.000000</td>\n",
              "      <td>0.000000</td>\n",
              "      <td>0.000000</td>\n",
              "      <td>0.000000</td>\n",
              "      <td>206.000000</td>\n",
              "      <td>117.000000</td>\n",
              "      <td>75.000000</td>\n",
              "      <td>23.080000</td>\n",
              "      <td>68.000000</td>\n",
              "      <td>72.000000</td>\n",
              "      <td>0.000000</td>\n",
              "    </tr>\n",
              "    <tr>\n",
              "      <th>50%</th>\n",
              "      <td>0.000000</td>\n",
              "      <td>49.000000</td>\n",
              "      <td>0.000000</td>\n",
              "      <td>0.000000</td>\n",
              "      <td>0.000000</td>\n",
              "      <td>0.000000</td>\n",
              "      <td>0.000000</td>\n",
              "      <td>0.000000</td>\n",
              "      <td>234.000000</td>\n",
              "      <td>128.000000</td>\n",
              "      <td>82.000000</td>\n",
              "      <td>25.400000</td>\n",
              "      <td>75.000000</td>\n",
              "      <td>78.000000</td>\n",
              "      <td>0.000000</td>\n",
              "    </tr>\n",
              "    <tr>\n",
              "      <th>75%</th>\n",
              "      <td>1.000000</td>\n",
              "      <td>56.000000</td>\n",
              "      <td>1.000000</td>\n",
              "      <td>20.000000</td>\n",
              "      <td>0.000000</td>\n",
              "      <td>0.000000</td>\n",
              "      <td>1.000000</td>\n",
              "      <td>0.000000</td>\n",
              "      <td>262.000000</td>\n",
              "      <td>144.000000</td>\n",
              "      <td>89.875000</td>\n",
              "      <td>28.037500</td>\n",
              "      <td>83.000000</td>\n",
              "      <td>85.000000</td>\n",
              "      <td>0.000000</td>\n",
              "    </tr>\n",
              "    <tr>\n",
              "      <th>max</th>\n",
              "      <td>1.000000</td>\n",
              "      <td>70.000000</td>\n",
              "      <td>1.000000</td>\n",
              "      <td>70.000000</td>\n",
              "      <td>1.000000</td>\n",
              "      <td>1.000000</td>\n",
              "      <td>1.000000</td>\n",
              "      <td>1.000000</td>\n",
              "      <td>696.000000</td>\n",
              "      <td>295.000000</td>\n",
              "      <td>142.500000</td>\n",
              "      <td>56.800000</td>\n",
              "      <td>143.000000</td>\n",
              "      <td>394.000000</td>\n",
              "      <td>1.000000</td>\n",
              "    </tr>\n",
              "  </tbody>\n",
              "</table>\n",
              "</div>"
            ],
            "text/plain": [
              "              male          age  ...      glucose   TenYearCHD\n",
              "count  4238.000000  4238.000000  ...  4238.000000  4238.000000\n",
              "mean      0.429212    49.584946  ...    81.603587     0.151958\n",
              "std       0.495022     8.572160  ...    22.865246     0.359023\n",
              "min       0.000000    32.000000  ...    40.000000     0.000000\n",
              "25%       0.000000    42.000000  ...    72.000000     0.000000\n",
              "50%       0.000000    49.000000  ...    78.000000     0.000000\n",
              "75%       1.000000    56.000000  ...    85.000000     0.000000\n",
              "max       1.000000    70.000000  ...   394.000000     1.000000\n",
              "\n",
              "[8 rows x 15 columns]"
            ]
          },
          "metadata": {},
          "execution_count": 7
        }
      ]
    },
    {
      "cell_type": "markdown",
      "metadata": {
        "id": "WbL6Ihggj0oq"
      },
      "source": [
        "## Mendefinisikan X dan y\n",
        "Mendefinisikan X dan y, dimana:\n",
        "- X merupakan data yang menjadi tolok ukur untuk prediksi (data dari dataset)\n",
        "- y merupakan hasil atau tujuan dari hasil prediksinya "
      ]
    },
    {
      "cell_type": "code",
      "metadata": {
        "trusted": true,
        "id": "yUyj7NjXj0oq"
      },
      "source": [
        "#mendefinisikan x dan y\n",
        "\n",
        "X = df.drop('TenYearCHD',axis='columns')\n",
        "y = df['TenYearCHD']"
      ],
      "execution_count": null,
      "outputs": []
    },
    {
      "cell_type": "markdown",
      "metadata": {
        "id": "UOVCs5lJj0or"
      },
      "source": [
        "## Split train & test set, standard scaling.\n",
        "\n",
        "Melakukan pemisahkan antara dataset latihan (train) dan \n",
        "dataset test (test) dengan pembagian:\n",
        "- 75% dataset latihan (train set)\n",
        "- 25% dataset pengujian (test set)\n",
        "\n",
        "Lalu, dilanjutkan dengan melakukan standard scaling untuk data-data numerik.\n",
        "Scaling dilakukan dengan Standard Scaler sklearn. Penggunaan Standard Scaler akan membuat fitur numerik dari data dapat diproses dengan lebih mudah oleh mesin untuk modelling."
      ]
    },
    {
      "cell_type": "code",
      "metadata": {
        "trusted": true,
        "colab": {
          "base_uri": "https://localhost:8080/"
        },
        "id": "FZdhM3H5j0or",
        "outputId": "71f65c6d-818a-45af-85c9-d7a60b95961e"
      },
      "source": [
        "# pemisahan dataset, dan scaling.\n",
        "\n",
        "X_train, X_test, y_train, y_test = train_test_split(X,y,test_size=0.25,random_state=42)\n",
        "\n",
        "scaler_train = StandardScaler()\n",
        "scaler_train.fit(X_train[numerical_features])\n",
        "X_train[numerical_features] = scaler_train.transform(X_train.loc[:, numerical_features])\n",
        "\n",
        "scaler_test = StandardScaler()\n",
        "scaler_test.fit(X_test[numerical_features])\n",
        "X_test[numerical_features] = scaler_train.transform(X_test.loc[:, numerical_features])"
      ],
      "execution_count": null,
      "outputs": [
        {
          "output_type": "stream",
          "name": "stderr",
          "text": [
            "/usr/local/lib/python3.7/dist-packages/ipykernel_launcher.py:7: SettingWithCopyWarning: \n",
            "A value is trying to be set on a copy of a slice from a DataFrame.\n",
            "Try using .loc[row_indexer,col_indexer] = value instead\n",
            "\n",
            "See the caveats in the documentation: https://pandas.pydata.org/pandas-docs/stable/user_guide/indexing.html#returning-a-view-versus-a-copy\n",
            "  import sys\n",
            "/usr/local/lib/python3.7/dist-packages/pandas/core/indexing.py:1734: SettingWithCopyWarning: \n",
            "A value is trying to be set on a copy of a slice from a DataFrame.\n",
            "Try using .loc[row_indexer,col_indexer] = value instead\n",
            "\n",
            "See the caveats in the documentation: https://pandas.pydata.org/pandas-docs/stable/user_guide/indexing.html#returning-a-view-versus-a-copy\n",
            "  isetter(loc, value[:, i].tolist())\n",
            "/usr/local/lib/python3.7/dist-packages/ipykernel_launcher.py:11: SettingWithCopyWarning: \n",
            "A value is trying to be set on a copy of a slice from a DataFrame.\n",
            "Try using .loc[row_indexer,col_indexer] = value instead\n",
            "\n",
            "See the caveats in the documentation: https://pandas.pydata.org/pandas-docs/stable/user_guide/indexing.html#returning-a-view-versus-a-copy\n",
            "  # This is added back by InteractiveShellApp.init_path()\n",
            "/usr/local/lib/python3.7/dist-packages/pandas/core/indexing.py:1734: SettingWithCopyWarning: \n",
            "A value is trying to be set on a copy of a slice from a DataFrame.\n",
            "Try using .loc[row_indexer,col_indexer] = value instead\n",
            "\n",
            "See the caveats in the documentation: https://pandas.pydata.org/pandas-docs/stable/user_guide/indexing.html#returning-a-view-versus-a-copy\n",
            "  isetter(loc, value[:, i].tolist())\n"
          ]
        }
      ]
    },
    {
      "cell_type": "markdown",
      "metadata": {
        "id": "aAr_mrAQmFG-"
      },
      "source": [
        "# Modelling\n",
        "\n",
        "Pembuatan model menggunakan 2 metode, yaitu:\n",
        "- Logistic Regression<br>\n",
        "Regresi logistik (kadang disebut model logistik atau model logit), dalam statistika digunakan untuk prediksi probabilitas kejadian suatu peristiwa dengan mencocokkan data pada fungsi logit kurva logistik. Metode ini merupakan model linier umum yang digunakan untuk regresi binomial. \n",
        "\n",
        "- Random Forest<br>\n",
        "Metode Random Forest  merupakan salah satu metode dalam Decision Tree. Decision Tree atau pohon pengambil keputusan adalah sebuah diagram alir yang berbentuk seperti pohon yang memiliki sebuah root node yang digunakan untuk mengumpulkan data, Sebuah inner node yang berada pada root node yang berisi tentang pertanyaan tentang data dan  sebuah leaf node yang digunakan untuk memecahkan masalah serta membuat keputusan.\n",
        "\n",
        "Penggunaan Model<br>\n",
        "Berdasarkan testing tersebut, maka dapat dilihat bahwa akurasi dari model Logistic Regression memiliki akurasi yang jauh lebih tinggi dibandingkan dengan Random Forest. Maka dari itu, model yang dipilih adalah Logistic Regression."
      ]
    },
    {
      "cell_type": "markdown",
      "metadata": {
        "id": "WzJd40GXj0or"
      },
      "source": [
        "## Mendefinisikan model & parameter yang digunakan\n",
        "Mendefinisikan model, dan metode yang digunakan, yaitu Logistic Regression & Random Forest."
      ]
    },
    {
      "cell_type": "code",
      "metadata": {
        "trusted": true,
        "id": "rCgaZMmrj0or"
      },
      "source": [
        "#mendefinisikan model dan metode \n",
        "model_logRes = LogisticRegression(max_iter=1000)\n",
        "model_RF = RandomForestRegressor(n_estimators=1000, max_depth=16, random_state=55, n_jobs=1)"
      ],
      "execution_count": null,
      "outputs": []
    },
    {
      "cell_type": "markdown",
      "metadata": {
        "id": "Qv1CINXQmhwq"
      },
      "source": [
        "## Melakukan proses training pada kedua model\n",
        "Melakukan proses training (fitting) pada kedua model menggunakan dataset yang sama, yaitu dataset training. Keduanya menggunakan syntax yang sama, yaitu fit."
      ]
    },
    {
      "cell_type": "code",
      "metadata": {
        "colab": {
          "base_uri": "https://localhost:8080/"
        },
        "id": "dBJl5K9imjMr",
        "outputId": "4e5fdf63-012b-4c38-b556-55d93750d064"
      },
      "source": [
        "#melakukan fitting model menggunakan dataset train pada 2 model\n",
        "model_logRes.fit(X_train,y_train)\n",
        "model_RF.fit(X_train, y_train)"
      ],
      "execution_count": null,
      "outputs": [
        {
          "output_type": "execute_result",
          "data": {
            "text/plain": [
              "RandomForestRegressor(bootstrap=True, ccp_alpha=0.0, criterion='mse',\n",
              "                      max_depth=16, max_features='auto', max_leaf_nodes=None,\n",
              "                      max_samples=None, min_impurity_decrease=0.0,\n",
              "                      min_impurity_split=None, min_samples_leaf=1,\n",
              "                      min_samples_split=2, min_weight_fraction_leaf=0.0,\n",
              "                      n_estimators=1000, n_jobs=1, oob_score=False,\n",
              "                      random_state=55, verbose=0, warm_start=False)"
            ]
          },
          "metadata": {},
          "execution_count": 11
        }
      ]
    },
    {
      "cell_type": "markdown",
      "metadata": {
        "id": "-HXHfl7cj0os"
      },
      "source": [
        "## Proses testing model\n",
        "Melakukan testing pada test set berupa prediksi data pada dataset test, lalu menampilkan hasilnya berupa akurasi model untuk menentukan penggunaan model."
      ]
    },
    {
      "cell_type": "code",
      "metadata": {
        "trusted": true,
        "colab": {
          "base_uri": "https://localhost:8080/"
        },
        "id": "sm7Unlwoj0os",
        "outputId": "221c90f0-5b45-4ec4-8a8b-b694734f094e"
      },
      "source": [
        "#melakukan prediksi data pada dataset test, lalu menampilkan hasilnya\n",
        "\n",
        "y_pred_logRes = model_logRes.predict(X_test)\n",
        "y_pred_RF = model_RF.predict(X_test)\n",
        "\n",
        "print(\"Akurasi model Logistic Regression: {}\".format(model_logRes.score(X_test,y_test).round(3)))\n",
        "print(\"Akurasi model Random Forest\\t: {}\".format(model_RF.score(X_test,y_test).round(3)))"
      ],
      "execution_count": null,
      "outputs": [
        {
          "output_type": "stream",
          "name": "stdout",
          "text": [
            "Akurasi model Logistic Regression: 0.866\n",
            "Akurasi model Random Forest\t: 0.03\n"
          ]
        }
      ]
    },
    {
      "cell_type": "markdown",
      "metadata": {
        "id": "6hBf3kpvnauu"
      },
      "source": [
        "## Hasil model test\n",
        "Berdasarkan testing tersebut, maka dapat dilihat bahwa akurasi dari model Logistic Regression memiliki akurasi yang jauh lebih tinggi dibandingkan dengan Random Forest. Maka dari itu, model yang dipilih adalah Logistic Regression."
      ]
    },
    {
      "cell_type": "markdown",
      "metadata": {
        "id": "hXvJeE3Tj0os"
      },
      "source": [
        "# Evaluasi\n",
        "\n",
        "Dalam proses evaluasi, akan disajikan informasi mengenai model yang dipilih, yaitu Logistic Regression, beserta penjelasan yang lebih detail mengenai perbandingannya dengan Random Forest dalam kasus ini melalui:\n",
        "- Akurasi kedua model\n",
        "- MSE (Mean Squared Error)\n",
        "\n",
        "Penjelasan lebih lanjut mengenai model yang dipilih (Logistic Regression)\n",
        "- Bobot dan nilai bias dari model\n",
        "- Confusion Matrix\n",
        "- Visualisasi Heatmap Confusion Matrix"
      ]
    },
    {
      "cell_type": "markdown",
      "metadata": {
        "id": "gVoAGwarojTK"
      },
      "source": [
        "## Metrik #1: Akurasi\n",
        "\n",
        "Dalam hasil diatas, akan disajikan ulang hasil berupa akurasi dari kedua model tersebut, dan perbandingan akurasinya.\n",
        "\n",
        "Dalam hasil ini, terlihat bahwa akurasi dari model yang menggunakan Logistic Regression lebih tinggi daripada Random Forest. Maka dari itu, pemilihan model jatuh pada Logistic Regression."
      ]
    },
    {
      "cell_type": "code",
      "metadata": {
        "colab": {
          "base_uri": "https://localhost:8080/"
        },
        "id": "qblfuKwyojm6",
        "outputId": "947cfd8c-f1ed-4653-c1c6-881f4442525f"
      },
      "source": [
        "print(\"Akurasi model Logistic Regression: {}\".format(model_logRes.score(X_test,y_test).round(3)))\n",
        "print(\"Akurasi model Random Forest\\t: {}\".format(model_RF.score(X_test,y_test).round(3)))"
      ],
      "execution_count": null,
      "outputs": [
        {
          "output_type": "stream",
          "name": "stdout",
          "text": [
            "Akurasi model Logistic Regression: 0.866\n",
            "Akurasi model Random Forest\t: 0.03\n"
          ]
        }
      ]
    },
    {
      "cell_type": "markdown",
      "metadata": {
        "id": "VKwo_g5wj0ou"
      },
      "source": [
        "## Metrik #2: MSE\n",
        "\n",
        "Melakukan pengecekan Mean Squared Error (MSE) pada metode Linear Regression dan Random Forest. Dalam Metrik ini, akan disajikan sebuah grafik yang merupakan hasil dari MSE dari perbandingan keduanya."
      ]
    },
    {
      "cell_type": "code",
      "metadata": {
        "colab": {
          "base_uri": "https://localhost:8080/",
          "height": 112
        },
        "id": "QBirNF7Nj0ou",
        "outputId": "d68cbad0-f01b-43f8-e7e6-8c6b25bf6863"
      },
      "source": [
        "#evaluasi menggunakan MSE\n",
        "\n",
        "mse = pd.DataFrame(columns=['train', 'test'], index=['LogRes','RF'])\n",
        "model_dict = {'LogRes': model_logRes, 'RF': model_RF}\n",
        "for name, model in model_dict.items():\n",
        "    mse.loc[name, 'train'] = mean_squared_error(y_true=y_train, y_pred=model.predict(X_train))/1e3 \n",
        "    mse.loc[name, 'test'] = mean_squared_error(y_true=y_test, y_pred=model.predict(X_test))/1e3\n",
        "mse"
      ],
      "execution_count": null,
      "outputs": [
        {
          "output_type": "execute_result",
          "data": {
            "text/html": [
              "<div>\n",
              "<style scoped>\n",
              "    .dataframe tbody tr th:only-of-type {\n",
              "        vertical-align: middle;\n",
              "    }\n",
              "\n",
              "    .dataframe tbody tr th {\n",
              "        vertical-align: top;\n",
              "    }\n",
              "\n",
              "    .dataframe thead th {\n",
              "        text-align: right;\n",
              "    }\n",
              "</style>\n",
              "<table border=\"1\" class=\"dataframe\">\n",
              "  <thead>\n",
              "    <tr style=\"text-align: right;\">\n",
              "      <th></th>\n",
              "      <th>train</th>\n",
              "      <th>test</th>\n",
              "    </tr>\n",
              "  </thead>\n",
              "  <tbody>\n",
              "    <tr>\n",
              "      <th>LogRes</th>\n",
              "      <td>0.000147262</td>\n",
              "      <td>0.000133962</td>\n",
              "    </tr>\n",
              "    <tr>\n",
              "      <th>RF</th>\n",
              "      <td>2.60137e-05</td>\n",
              "      <td>0.000119166</td>\n",
              "    </tr>\n",
              "  </tbody>\n",
              "</table>\n",
              "</div>"
            ],
            "text/plain": [
              "              train         test\n",
              "LogRes  0.000147262  0.000133962\n",
              "RF      2.60137e-05  0.000119166"
            ]
          },
          "metadata": {},
          "execution_count": 14
        }
      ]
    },
    {
      "cell_type": "markdown",
      "metadata": {
        "id": "C-V_64j-j0ou"
      },
      "source": [
        "Plotting hasil MSE untuk melihat dengan lebih baik."
      ]
    },
    {
      "cell_type": "code",
      "metadata": {
        "colab": {
          "base_uri": "https://localhost:8080/",
          "height": 265
        },
        "id": "U0DIvT4hj0ou",
        "outputId": "0f11519f-8cec-4ac9-fb3f-dd3938d0b171"
      },
      "source": [
        "#plotting MSE\n",
        "\n",
        "import matplotlib.pyplot as plt\n",
        "\n",
        "fig, ax = plt.subplots()\n",
        "mse.sort_values(by='test', ascending=False).plot(kind='barh', ax=ax, zorder=3)\n",
        "ax.grid(zorder=0)"
      ],
      "execution_count": null,
      "outputs": [
        {
          "output_type": "display_data",
          "data": {
            "image/png": "[encoded data removed]",
            "text/plain": [
              "<Figure size 432x288 with 1 Axes>"
            ]
          },
          "metadata": {
            "needs_background": "light"
          }
        }
      ]
    },
    {
      "cell_type": "markdown",
      "metadata": {
        "id": "yNOBaqQHj0os"
      },
      "source": [
        "## Bobot dan nilai Bias Logistic Regression\n",
        "\n",
        "Mencari weight/bobot dari masing-masing variabel yang ada dalam model Linear Regression. Pencarian ini dilakukan secara matematis untuk mengetahui nilai dari bobot tiap variabel, dan nilai bias dari sistem setelah dilakukan sejumlah N perulangan."
      ]
    },
    {
      "cell_type": "code",
      "metadata": {
        "colab": {
          "base_uri": "https://localhost:8080/"
        },
        "id": "znmMHoUOj0os",
        "outputId": "50583c5d-f057-4c06-e2d2-925cb3f85ef0"
      },
      "source": [
        "#mencari weight/bobot dari masing-masing variabel yang ada dalam model\n",
        "\n",
        "print(\"Nilai Bobot Tiap Variabel:\\n{}\\n\\nNilai Bias: {}\\n\\nBanyaknya iterasi: {}\".format(model_logRes.coef_[0], model_logRes.intercept_[0], model_logRes.n_iter_[0]))"
      ],
      "execution_count": null,
      "outputs": [
        {
          "output_type": "stream",
          "name": "stdout",
          "text": [
            "Nilai Bobot Tiap Variabel:\n",
            "[ 0.43435132  0.06444877 -0.07364571  0.29695524  0.21615732  0.63344068\n",
            "  0.16974621  0.0995346   0.0347053   0.28958578  0.05877288 -0.04884005\n",
            " -0.07666783  0.18943376]\n",
            "\n",
            "Nilai Bias: -5.351232848907937\n",
            "\n",
            "Banyaknya iterasi: 292\n"
          ]
        }
      ]
    },
    {
      "cell_type": "markdown",
      "metadata": {
        "id": "dCTNj-_tj0ot"
      },
      "source": [
        "## Confusion Matrix Logistic Regression\n",
        "\n",
        "Membuat confusion matrix untuk mengetahui letak prediksi yang salah, maupun prediksi yang benar pada saat model melakukan prediksi."
      ]
    },
    {
      "cell_type": "code",
      "metadata": {
        "trusted": true,
        "colab": {
          "base_uri": "https://localhost:8080/"
        },
        "id": "LfWoINofj0ot",
        "outputId": "07fbb450-9b67-4470-8c57-5e0cfd85c2a5"
      },
      "source": [
        "#membuat confusion matrix untuk mengetahui letak kesalahan pada prediksi model\n",
        "\n",
        "cn_logRes = confusion_matrix(y_test,y_pred_logRes)\n",
        "print(\"Confusion Matrix Logistic Regression:\\n{}\".format(cn_logRes))"
      ],
      "execution_count": null,
      "outputs": [
        {
          "output_type": "stream",
          "name": "stdout",
          "text": [
            "Confusion Matrix Logistic Regression:\n",
            "[[901   7]\n",
            " [135  17]]\n"
          ]
        }
      ]
    },
    {
      "cell_type": "markdown",
      "metadata": {
        "id": "_an_nx-Xj0ot"
      },
      "source": [
        "## Heatmap visualisasi Confusion Matrix\n",
        "\n",
        "Visualisasi data melalui heatmap untuk melihat lebih jelas distribusi dari hasil prediksi model."
      ]
    },
    {
      "cell_type": "code",
      "metadata": {
        "trusted": true,
        "colab": {
          "base_uri": "https://localhost:8080/",
          "height": 286
        },
        "id": "TfoH-I_qj0ot",
        "outputId": "3412bf9c-c265-44f4-917f-ccebbf0319c4"
      },
      "source": [
        "#heatmap plot menggunakan sns\n",
        "sns.heatmap(cn_logRes, annot=True)"
      ],
      "execution_count": null,
      "outputs": [
        {
          "output_type": "execute_result",
          "data": {
            "text/plain": [
              "<matplotlib.axes._subplots.AxesSubplot at 0x7f23dffc7310>"
            ]
          },
          "metadata": {},
          "execution_count": 18
        },
        {
          "output_type": "display_data",
          "data": {
            "image/png": "[encoded data removed]",
            "text/plain": [
              "<Figure size 432x288 with 2 Axes>"
            ]
          },
          "metadata": {
            "needs_background": "light"
          }
        }
      ]
    }
  ]
}